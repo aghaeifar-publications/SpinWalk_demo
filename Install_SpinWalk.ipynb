{
  "nbformat": 4,
  "nbformat_minor": 0,
  "metadata": {
    "colab": {
      "provenance": [],
      "gpuType": "T4",
      "authorship_tag": "ABX9TyP+pkK5EZOFnvVwjxpe993F",
      "include_colab_link": true
    },
    "kernelspec": {
      "name": "python3",
      "display_name": "Python 3"
    },
    "language_info": {
      "name": "python"
    },
    "accelerator": "GPU"
  },
  "cells": [
    {
      "cell_type": "markdown",
      "metadata": {
        "id": "view-in-github",
        "colab_type": "text"
      },
      "source": [
        "<a href=\"https://colab.research.google.com/github/aghaeifar-publications/SpinWalk_demo/blob/main/Install_SpinWalk.ipynb\" target=\"_parent\"><img src=\"https://colab.research.google.com/assets/colab-badge.svg\" alt=\"Open In Colab\"/></a>"
      ]
    },
    {
      "cell_type": "code",
      "execution_count": 10,
      "metadata": {
        "colab": {
          "base_uri": "https://localhost:8080/"
        },
        "id": "Crjc9Yp71deU",
        "outputId": "85a909f6-6563-4969-ac0f-424c98effe24"
      },
      "outputs": [
        {
          "output_type": "stream",
          "name": "stdout",
          "text": [
            "Reading package lists...\n",
            "Building dependency tree...\n",
            "Reading state information...\n",
            "libboost-all-dev is already the newest version (1.74.0.3ubuntu7).\n",
            "libhdf5-dev is already the newest version (1.10.7+repack-4ubuntu2).\n",
            "libtbb-dev is already the newest version (2021.5.0-7ubuntu2).\n",
            "0 upgraded, 0 newly installed, 0 to remove and 45 not upgraded.\n",
            "-- CMake version: 3.30.1\n",
            "-- The CUDA compiler identification is NVIDIA 12.2.140\n",
            "-- The CXX compiler identification is GNU 11.4.0\n",
            "-- Detecting CUDA compiler ABI info\n",
            "-- Detecting CUDA compiler ABI info - done\n",
            "-- Check for working CUDA compiler: /usr/local/cuda/bin/nvcc - skipped\n",
            "-- Detecting CUDA compile features\n",
            "-- Detecting CUDA compile features - done\n",
            "-- Detecting CXX compiler ABI info\n",
            "-- Detecting CXX compiler ABI info - done\n",
            "-- Check for working CXX compiler: /usr/bin/c++ - skipped\n",
            "-- Detecting CXX compile features\n",
            "-- Detecting CXX compile features - done\n",
            "-- Found HDF5: /usr/lib/x86_64-linux-gnu/hdf5/serial/libhdf5_cpp.so;/usr/lib/x86_64-linux-gnu/hdf5/serial/libhdf5.so;/usr/lib/x86_64-linux-gnu/libcrypto.so;/usr/lib/x86_64-linux-gnu/libcurl.so;/usr/lib/x86_64-linux-gnu/libpthread.a;/usr/lib/x86_64-linux-gnu/libsz.so;/usr/lib/x86_64-linux-gnu/libz.so;/usr/lib/x86_64-linux-gnu/libdl.a;/usr/lib/x86_64-linux-gnu/libm.so (found version \"1.10.7\") found components: CXX\n",
            "-- Found OpenMP_CXX: -fopenmp (found version \"4.5\")\n",
            "-- Found OpenMP: TRUE (found version \"4.5\")\n",
            "-- Performing Test CMAKE_HAVE_LIBC_PTHREAD\n",
            "-- Performing Test CMAKE_HAVE_LIBC_PTHREAD - Success\n",
            "-- Found Threads: TRUE\n",
            "-- Found CUDA: /usr/local/cuda (found version \"12.2\")\n",
            "-- Autodetected CUDA architecture(s):  7.5\n",
            "-- Configuring done (4.5s)\n",
            "-- Generating done (0.0s)\n",
            "-- Build files have been written to: /content/SpinWalk/build\n",
            "[ 14%] Building CUDA object CMakeFiles/spinwalk.dir/src/spinwalk.cu.o\n",
            "[ 28%] Building CUDA object CMakeFiles/spinwalk.dir/src/kernels.cu.o\n",
            "[ 42%] Building CXX object CMakeFiles/spinwalk.dir/src/file_utils.cpp.o\n",
            "[ 57%] Building CUDA object CMakeFiles/spinwalk.dir/src/shapes/shape_base.cu.o\n",
            "[ 71%] Building CUDA object CMakeFiles/spinwalk.dir/src/shapes/cylinder.cu.o\n",
            "[ 85%] Building CUDA object CMakeFiles/spinwalk.dir/src/shapes/sphere.cu.o\n",
            "[100%] Linking CXX executable spinwalk\n",
            "[100%] Built target spinwalk\n",
            "/content/SpinWalk\n",
            "-- Install configuration: \"\"\n",
            "-- Installing: /usr/local/bin/spinwalk\n",
            "-- Set non-toolchain portion of runtime path of \"/usr/local/bin/spinwalk\" to \"\"\n",
            " \n",
            " ____            _          __        __          _   _        \n",
            "/ ___|   _ __   (_)  _ __   \\ \\      / /   __ _  | | | | __    \n",
            "\\___ \\  | '_ \\  | | | '_ \\   \\ \\ /\\ / /   / _` | | | | |/ /    \n",
            " ___) | | |_) | | | | | | |   \\ V  V /   | (_| | | | |   <     \n",
            "|____/  | .__/  |_| |_| |_|    \\_/\\_/     \\__,_| |_| |_|\\_\\    \n",
            "        |_|                                                    \n",
            "\n",
            "SpinWalk ver. 1.15.0\n",
            "Options:\n",
            "  -h [ --help ]                         help message (this menu)\n",
            "  -c [ --configs ] arg                  config. files as many as you want. e.g.\n",
            "                                        -c config1.ini config2.ini ... \n",
            "                                        configN.ini\n",
            "  -p [ --use_cpu ]                      only run on CPU (default: GPU)\n",
            "  -g [ --device ] arg (=0)              select GPU device (if there are \n",
            "                                        multiple GPUs)\n",
            "  -C [ --cylinder ]                     generate phantom filled with cylinders\n",
            "  -S [ --sphere ]                       generate phantom filled with spheres\n",
            "  -o [ --orientation ] arg (=90)        orientation of the cylinders in degree \n",
            "                                        with respect to B0\n",
            "  -r [ --radius ] arg (=50)             radius of the cylinders/spheres in um \n",
            "                                        (negative value = random radius)\n",
            "  -s [ --seed ] arg (=-1)               seed for random number generator in \n",
            "                                        phantom creator (negative value = \n",
            "                                        random seed)\n",
            "  -b [ --BVF ] arg (=10)                fraction of shapes to entire volume \n",
            "                                        <0.0 100.0> (i.e. blood volume \n",
            "                                        fraction)\n",
            "  -v [ --fov ] arg (=1000)              voxel field of view in um (isotropic)\n",
            "  -z [ --resolution ] arg (=500)        base resolution\n",
            "  -d [ --dchi ] arg (=1.10000002e-07)   susceptibility difference between fully\n",
            "                                        deoxygenated blood (inside \n",
            "                                        cylinders/spheres) and tissue (outside \n",
            "                                        cylinders/spheres) (default: 0.11e-6 in\n",
            "                                        cgs units)\n",
            "  -y [ --oxy_level ] arg (=0.75)        blood oxygenetation level <0.0 1.0> \n",
            "                                        (negative value = exclude off-resonance\n",
            "                                        effect and only generate the mask)\n",
            "  -f [ --output_file ] arg (=./phantom.h5)\n",
            "                                        path to save phantom (h5 format)\n",
            "\n",
            "Driver version: 12020, CUDA version: 12020, Number of devices: 1\n",
            "Device 1, Tesla T4\n",
            "-Compute Capability: 7.5\n",
            "-Free GPU Memory: 14999 MB (out of 15102 MB)\n"
          ]
        }
      ],
      "source": [
        "%%bash\n",
        "apt-get install -y libboost-all-dev libhdf5-dev libtbb-dev\n",
        "\n",
        "rm -rf SpinWalk\n",
        "git clone https://github.com/aghaeifar/SpinWalk.git --branch v1.15.0  &> /dev/null\n",
        "cd SpinWalk\n",
        "cmake -B ./build\n",
        "cmake --build ./build --config Release\n",
        "cmake --install ./build\n",
        "spinwalk"
      ]
    },
    {
      "cell_type": "code",
      "source": [
        "%%bash\n",
        "spinwalk"
      ],
      "metadata": {
        "id": "ibCWhrzOWZy7",
        "outputId": "993ab9d2-7ee9-40ad-8957-5f190f79026b",
        "colab": {
          "base_uri": "https://localhost:8080/"
        }
      },
      "execution_count": 13,
      "outputs": [
        {
          "output_type": "stream",
          "name": "stdout",
          "text": [
            " \n",
            " ____            _          __        __          _   _        \n",
            "/ ___|   _ __   (_)  _ __   \\ \\      / /   __ _  | | | | __    \n",
            "\\___ \\  | '_ \\  | | | '_ \\   \\ \\ /\\ / /   / _` | | | | |/ /    \n",
            " ___) | | |_) | | | | | | |   \\ V  V /   | (_| | | | |   <     \n",
            "|____/  | .__/  |_| |_| |_|    \\_/\\_/     \\__,_| |_| |_|\\_\\    \n",
            "        |_|                                                    \n",
            "\n",
            "SpinWalk ver. 1.15.0\n",
            "Options:\n",
            "  -h [ --help ]                         help message (this menu)\n",
            "  -c [ --configs ] arg                  config. files as many as you want. e.g.\n",
            "                                        -c config1.ini config2.ini ... \n",
            "                                        configN.ini\n",
            "  -p [ --use_cpu ]                      only run on CPU (default: GPU)\n",
            "  -g [ --device ] arg (=0)              select GPU device (if there are \n",
            "                                        multiple GPUs)\n",
            "  -C [ --cylinder ]                     generate phantom filled with cylinders\n",
            "  -S [ --sphere ]                       generate phantom filled with spheres\n",
            "  -o [ --orientation ] arg (=90)        orientation of the cylinders in degree \n",
            "                                        with respect to B0\n",
            "  -r [ --radius ] arg (=50)             radius of the cylinders/spheres in um \n",
            "                                        (negative value = random radius)\n",
            "  -s [ --seed ] arg (=-1)               seed for random number generator in \n",
            "                                        phantom creator (negative value = \n",
            "                                        random seed)\n",
            "  -b [ --BVF ] arg (=10)                fraction of shapes to entire volume \n",
            "                                        <0.0 100.0> (i.e. blood volume \n",
            "                                        fraction)\n",
            "  -v [ --fov ] arg (=1000)              voxel field of view in um (isotropic)\n",
            "  -z [ --resolution ] arg (=500)        base resolution\n",
            "  -d [ --dchi ] arg (=1.10000002e-07)   susceptibility difference between fully\n",
            "                                        deoxygenated blood (inside \n",
            "                                        cylinders/spheres) and tissue (outside \n",
            "                                        cylinders/spheres) (default: 0.11e-6 in\n",
            "                                        cgs units)\n",
            "  -y [ --oxy_level ] arg (=0.75)        blood oxygenetation level <0.0 1.0> \n",
            "                                        (negative value = exclude off-resonance\n",
            "                                        effect and only generate the mask)\n",
            "  -f [ --output_file ] arg (=./phantom.h5)\n",
            "                                        path to save phantom (h5 format)\n",
            "\n",
            "Driver version: 12020, CUDA version: 12020, Number of devices: 1\n",
            "Device 1, Tesla T4\n",
            "-Compute Capability: 7.5\n",
            "-Free GPU Memory: 14999 MB (out of 15102 MB)\n"
          ]
        }
      ]
    }
  ]
}