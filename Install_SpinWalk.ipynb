{
  "nbformat": 4,
  "nbformat_minor": 0,
  "metadata": {
    "colab": {
      "provenance": [],
      "gpuType": "T4",
      "authorship_tag": "ABX9TyPn6JEkoOHeM1dkMSm13B2v",
      "include_colab_link": true
    },
    "kernelspec": {
      "name": "python3",
      "display_name": "Python 3"
    },
    "language_info": {
      "name": "python"
    },
    "accelerator": "GPU"
  },
  "cells": [
    {
      "cell_type": "markdown",
      "metadata": {
        "id": "view-in-github",
        "colab_type": "text"
      },
      "source": [
        "<a href=\"https://colab.research.google.com/github/aghaeifar-publications/SpinWalk_demo/blob/main/Install_SpinWalk.ipynb\" target=\"_parent\"><img src=\"https://colab.research.google.com/assets/colab-badge.svg\" alt=\"Open In Colab\"/></a>"
      ]
    },
    {
      "cell_type": "code",
      "execution_count": 11,
      "metadata": {
        "colab": {
          "base_uri": "https://localhost:8080/"
        },
        "id": "Crjc9Yp71deU",
        "outputId": "a9f13835-627c-4f4d-e0a7-97662a3ea100"
      },
      "outputs": [
        {
          "output_type": "stream",
          "name": "stdout",
          "text": [
            "Reading package lists...\n",
            "Building dependency tree...\n",
            "Reading state information...\n",
            "libboost-all-dev is already the newest version (1.74.0.3ubuntu7).\n",
            "libhdf5-dev is already the newest version (1.10.7+repack-4ubuntu2).\n",
            "libtbb-dev is already the newest version (2021.5.0-7ubuntu2).\n",
            "0 upgraded, 0 newly installed, 0 to remove and 45 not upgraded.\n",
            "-- CMake version: 3.30.1\n",
            "-- The CUDA compiler identification is NVIDIA 12.2.140\n",
            "-- The CXX compiler identification is GNU 11.4.0\n",
            "-- Detecting CUDA compiler ABI info\n",
            "-- Detecting CUDA compiler ABI info - done\n",
            "-- Check for working CUDA compiler: /usr/local/cuda/bin/nvcc - skipped\n",
            "-- Detecting CUDA compile features\n",
            "-- Detecting CUDA compile features - done\n",
            "-- Detecting CXX compiler ABI info\n",
            "-- Detecting CXX compiler ABI info - done\n",
            "-- Check for working CXX compiler: /usr/bin/c++ - skipped\n",
            "-- Detecting CXX compile features\n",
            "-- Detecting CXX compile features - done\n",
            "-- Found HDF5: /usr/lib/x86_64-linux-gnu/hdf5/serial/libhdf5_cpp.so;/usr/lib/x86_64-linux-gnu/hdf5/serial/libhdf5.so;/usr/lib/x86_64-linux-gnu/libcrypto.so;/usr/lib/x86_64-linux-gnu/libcurl.so;/usr/lib/x86_64-linux-gnu/libpthread.a;/usr/lib/x86_64-linux-gnu/libsz.so;/usr/lib/x86_64-linux-gnu/libz.so;/usr/lib/x86_64-linux-gnu/libdl.a;/usr/lib/x86_64-linux-gnu/libm.so (found version \"1.10.7\") found components: CXX\n",
            "-- Found OpenMP_CXX: -fopenmp (found version \"4.5\")\n",
            "-- Found OpenMP: TRUE (found version \"4.5\")\n",
            "-- Found Boost: /usr/lib/x86_64-linux-gnu/cmake/Boost-1.74.0/BoostConfig.cmake (found version \"1.74.0\") found components: program_options log log_setup\n",
            "-- Found Threads: TRUE\n",
            "-- Found CUDA: /usr/local/cuda (found version \"12.2\")\n",
            "-- Autodetected CUDA architecture(s):  7.5\n",
            "-- Configuring done (5.6s)\n",
            "-- Generating done (0.0s)\n",
            "-- Build files have been written to: /content/SpinWalk/build\n",
            "[ 14%] Building CUDA object CMakeFiles/spinwalk.dir/src/spinwalk.cu.o\n",
            "[ 28%] Building CUDA object CMakeFiles/spinwalk.dir/src/kernels.cu.o\n",
            "[ 42%] Building CXX object CMakeFiles/spinwalk.dir/src/file_utils.cpp.o\n",
            "[ 57%] Building CUDA object CMakeFiles/spinwalk.dir/src/shapes/shape_base.cu.o\n",
            "[ 71%] Building CUDA object CMakeFiles/spinwalk.dir/src/shapes/cylinder.cu.o\n",
            "[ 85%] Building CUDA object CMakeFiles/spinwalk.dir/src/shapes/sphere.cu.o\n",
            "[100%] Linking CXX executable spinwalk\n",
            "[100%] Built target spinwalk\n"
          ]
        },
        {
          "output_type": "stream",
          "name": "stderr",
          "text": [
            "CMake Warning (dev) at CMakeLists.txt:11 (find_package):\n",
            "  Policy CMP0167 is not set: The FindBoost module is removed.  Run \"cmake\n",
            "  --help-policy CMP0167\" for policy details.  Use the cmake_policy command to\n",
            "  set the policy and suppress this warning.\n",
            "\n",
            "This warning is for project developers.  Use -Wno-dev to suppress it.\n",
            "\n",
            "CMake Warning (dev) at CMakeLists.txt:13 (find_package):\n",
            "  Policy CMP0146 is not set: The FindCUDA module is removed.  Run \"cmake\n",
            "  --help-policy CMP0146\" for policy details.  Use the cmake_policy command to\n",
            "  set the policy and suppress this warning.\n",
            "\n",
            "This warning is for project developers.  Use -Wno-dev to suppress it.\n",
            "\n"
          ]
        }
      ],
      "source": [
        "%%bash\n",
        "apt-get install -y libboost-all-dev libhdf5-dev libtbb-dev\n",
        "\n",
        "rm -rf SpinWalk\n",
        "git clone https://github.com/aghaeifar/SpinWalk.git --branch v1.15.0  &> /dev/null\n",
        "cd SpinWalk\n",
        "cmake -B ./build\n",
        "cmake --build ./build --config Release\n"
      ]
    }
  ]
}